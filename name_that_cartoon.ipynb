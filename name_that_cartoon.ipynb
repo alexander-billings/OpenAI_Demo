{
 "cells": [
  {
   "cell_type": "code",
   "execution_count": 1,
   "metadata": {},
   "outputs": [],
   "source": [
    "import json, openai\n",
    "\n",
    "config = json.load(open('config.json'))\n",
    "openai.api_key = config['API_KEY']"
   ]
  },
  {
   "cell_type": "code",
   "execution_count": 6,
   "metadata": {},
   "outputs": [],
   "source": [
    "cartoon_one = \"Summary: Mr. Krabs has SpongeBob and Squidward make the first successful pizza delivery.\\nSeries: Spongebob SquarePants\\n\"\n",
    "cartoon_two = \"Summary: Rocko has to have his appendix removed. Rocko hallucinates and makes friends with Pinky, his appendix.\\nSeries: Rocko's Modern Life\\n\"\n",
    "cartoon_three = \"Summary: The beavers discover an old trunk with 16mm film inside. They assume that they have discovered Oxnard Montalvo's unfinished horror film masterpiece, and set about to complete the film as an homage their hero. Once finished, the film is not exactly what they expected.\\nSeries: The Angry Beavers\\n\"\n",
    "\n",
    "cartoon_prompt = \"Summary: When a glass was broken in Chaz's greenhouse while the kids go on an adventure, Chuckie does not want to go on any adventures with his friends anymore, but Chuckie's decision also affects Chuckie and Tommy's friendship.\\nSeries:\""
   ]
  },
  {
   "cell_type": "code",
   "execution_count": 3,
   "metadata": {},
   "outputs": [],
   "source": [
    "def ask_openai(prompt):\n",
    "    response = openai.Completion.create(\n",
    "    engine=\"text-davinci-002\",\n",
    "    prompt=prompt,\n",
    "    temperature=0,\n",
    "    max_tokens=100,\n",
    "    top_p=1,\n",
    "    frequency_penalty=0.0,\n",
    "    presence_penalty=0.0,\n",
    "    stop=[\"\\n\"])\n",
    "\n",
    "    return response.choices[0].text"
   ]
  },
  {
   "cell_type": "code",
   "execution_count": 7,
   "metadata": {},
   "outputs": [
    {
     "data": {
      "text/plain": [
       "' Rugrats'"
      ]
     },
     "execution_count": 7,
     "metadata": {},
     "output_type": "execute_result"
    }
   ],
   "source": [
    "# combine the examples with the prompt, the prompt is an episode summary from Rugrats\n",
    "ask_openai(cartoon_one + cartoon_two + cartoon_three + cartoon_prompt)"
   ]
  }
 ],
 "metadata": {
  "interpreter": {
   "hash": "31d6bafb2e504246e52a7079d55566b9a1085c843e59051e4d094937574a4ee1"
  },
  "kernelspec": {
   "display_name": "Python 3.10.2 ('.venv': venv)",
   "language": "python",
   "name": "python3"
  },
  "language_info": {
   "codemirror_mode": {
    "name": "ipython",
    "version": 3
   },
   "file_extension": ".py",
   "mimetype": "text/x-python",
   "name": "python",
   "nbconvert_exporter": "python",
   "pygments_lexer": "ipython3",
   "version": "3.10.2"
  },
  "orig_nbformat": 4
 },
 "nbformat": 4,
 "nbformat_minor": 2
}
