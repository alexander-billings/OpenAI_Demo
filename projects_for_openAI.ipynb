{
 "cells": [
  {
   "cell_type": "markdown",
   "metadata": {},
   "source": [
    "# NLP projects\n",
    "This is a list of projects as suggested by the article found at this website:\n",
    "\n",
    "https://www.projectpro.io/article/nlp-projects-ideas-/452#mcetoc_1fb65p3aq2k\n",
    "\n",
    "The goal of this notebook is to explore the speed of using production-ready models with minimal fine-tuning."
   ]
  },
  {
   "cell_type": "code",
   "execution_count": 12,
   "metadata": {},
   "outputs": [],
   "source": [
    "import json\n",
    "import openai\n",
    "\n",
    "## Common setup\n",
    "config = json.load(open('config.json'))\n",
    "openai.api_key = config['API_KEY']"
   ]
  },
  {
   "cell_type": "code",
   "execution_count": 14,
   "metadata": {},
   "outputs": [
    {
     "data": {
      "text/plain": [
       "['__class__',\n",
       " '__class_getitem__',\n",
       " '__contains__',\n",
       " '__copy__',\n",
       " '__deepcopy__',\n",
       " '__delattr__',\n",
       " '__delitem__',\n",
       " '__dict__',\n",
       " '__dir__',\n",
       " '__doc__',\n",
       " '__eq__',\n",
       " '__format__',\n",
       " '__ge__',\n",
       " '__getattr__',\n",
       " '__getattribute__',\n",
       " '__getitem__',\n",
       " '__gt__',\n",
       " '__hash__',\n",
       " '__init__',\n",
       " '__init_subclass__',\n",
       " '__ior__',\n",
       " '__iter__',\n",
       " '__le__',\n",
       " '__len__',\n",
       " '__lt__',\n",
       " '__module__',\n",
       " '__ne__',\n",
       " '__new__',\n",
       " '__or__',\n",
       " '__reduce__',\n",
       " '__reduce_ex__',\n",
       " '__repr__',\n",
       " '__reversed__',\n",
       " '__ror__',\n",
       " '__setattr__',\n",
       " '__setitem__',\n",
       " '__setstate__',\n",
       " '__sizeof__',\n",
       " '__str__',\n",
       " '__subclasshook__',\n",
       " '__weakref__',\n",
       " 'api_base',\n",
       " 'api_base_override',\n",
       " 'clear',\n",
       " 'construct_from',\n",
       " 'copy',\n",
       " 'create',\n",
       " 'fromkeys',\n",
       " 'get',\n",
       " 'get_url',\n",
       " 'items',\n",
       " 'keys',\n",
       " 'openai_id',\n",
       " 'pop',\n",
       " 'popitem',\n",
       " 'refresh_from',\n",
       " 'request',\n",
       " 'response_ms',\n",
       " 'setdefault',\n",
       " 'to_dict',\n",
       " 'to_dict_recursive',\n",
       " 'typed_api_type',\n",
       " 'update',\n",
       " 'values']"
      ]
     },
     "execution_count": 14,
     "metadata": {},
     "output_type": "execute_result"
    }
   ],
   "source": [
    "dir(openai.Classification)"
   ]
  },
  {
   "cell_type": "markdown",
   "metadata": {},
   "source": [
    "## 1. Sentiment Analysis"
   ]
  },
  {
   "cell_type": "code",
   "execution_count": 30,
   "metadata": {},
   "outputs": [
    {
     "name": "stdout",
     "output_type": "stream",
     "text": [
      "The customer review \"This album wasn't very innovative.\" was found to be Negative.\n",
      "The customer review \"It wasn't bad for a TV show.\" was found to be Positive.\n",
      "The customer review \"I can't wait for the next one!\" was found to be Positive.\n"
     ]
    }
   ],
   "source": [
    "# text-ada-001\n",
    "def get_sentiment(text):\n",
    "    response = openai.Classification.create(\n",
    "        model=\"text-ada-001\",\n",
    "        examples=[\n",
    "            [\"I love this movie.\", 'positive'],\n",
    "            [\"I hate this movie.\", 'negative'],\n",
    "            [\"This burger was mediocre.\", 'neutral'],\n",
    "        ],\n",
    "        query=text,\n",
    "        labels=['positive', 'negative', 'neutral']\n",
    "    )\n",
    "    return response.label\n",
    "\n",
    "def sentiment_print(review, prompt):\n",
    "    print(f\"The customer review \\\"{review}\\\" was found to be {prompt}.\")\n",
    "\n",
    "customer_review1 = \"This album wasn't very innovative.\"\n",
    "customer_review2 = \"It wasn't bad for a TV show.\"\n",
    "customer_review3 = \"I can't wait for the next one!\"\n",
    "\n",
    "sentiment_print(customer_review1, get_sentiment(customer_review1))\n",
    "sentiment_print(customer_review2, get_sentiment(customer_review2))\n",
    "sentiment_print(customer_review3, get_sentiment(customer_review3))"
   ]
  },
  {
   "cell_type": "markdown",
   "metadata": {},
   "source": [
    "## 2. Conversational Bots: ChatBots"
   ]
  },
  {
   "cell_type": "code",
   "execution_count": null,
   "metadata": {},
   "outputs": [],
   "source": []
  },
  {
   "cell_type": "markdown",
   "metadata": {},
   "source": [
    "## 3. Topic Identification"
   ]
  },
  {
   "cell_type": "code",
   "execution_count": null,
   "metadata": {},
   "outputs": [],
   "source": []
  },
  {
   "cell_type": "markdown",
   "metadata": {},
   "source": [
    "## 4. Summary Writer"
   ]
  },
  {
   "cell_type": "markdown",
   "metadata": {},
   "source": [
    "## 5. Grammar Correction"
   ]
  },
  {
   "cell_type": "markdown",
   "metadata": {},
   "source": [
    "## 6. Spam Classification"
   ]
  },
  {
   "cell_type": "markdown",
   "metadata": {},
   "source": [
    "## 7. Text Processing and Classification"
   ]
  },
  {
   "cell_type": "markdown",
   "metadata": {},
   "source": [
    "## 8. Sentance Autocompletion"
   ]
  },
  {
   "cell_type": "markdown",
   "metadata": {},
   "source": [
    "## 9. Market Basket Analysis"
   ]
  },
  {
   "cell_type": "markdown",
   "metadata": {},
   "source": [
    "## 10. Question Tagging"
   ]
  },
  {
   "cell_type": "markdown",
   "metadata": {},
   "source": [
    "## 11. Resume Parsing"
   ]
  },
  {
   "cell_type": "markdown",
   "metadata": {},
   "source": [
    "## 12. Innappropiate Comment Scanner"
   ]
  },
  {
   "cell_type": "markdown",
   "metadata": {},
   "source": []
  }
 ],
 "metadata": {
  "interpreter": {
   "hash": "31d6bafb2e504246e52a7079d55566b9a1085c843e59051e4d094937574a4ee1"
  },
  "kernelspec": {
   "display_name": "Python 3.10.3 ('.venv': venv)",
   "language": "python",
   "name": "python3"
  },
  "language_info": {
   "codemirror_mode": {
    "name": "ipython",
    "version": 3
   },
   "file_extension": ".py",
   "mimetype": "text/x-python",
   "name": "python",
   "nbconvert_exporter": "python",
   "pygments_lexer": "ipython3",
   "version": "3.10.3"
  },
  "orig_nbformat": 4
 },
 "nbformat": 4,
 "nbformat_minor": 2
}
